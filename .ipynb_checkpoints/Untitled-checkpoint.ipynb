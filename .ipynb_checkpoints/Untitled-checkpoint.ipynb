{
 "cells": [
  {
   "cell_type": "code",
   "execution_count": 1,
   "id": "5676c158-b45d-45c8-9c89-33ae6ea7c381",
   "metadata": {},
   "outputs": [],
   "source": [
    "import pandas as pd\n",
    "import numpy as np\n",
    "from sklearn.model_selection import train_test_split\n",
    "from sklearn.tree import DecisionTreeClassifier\n",
    "from sklearn.metrics import accuracy_score"
   ]
  },
  {
   "cell_type": "code",
   "execution_count": 2,
   "id": "cba363c4-f1eb-4a37-bc62-d25159754684",
   "metadata": {},
   "outputs": [],
   "source": [
    "shape = ['circle', 'triangle', 'square']\n",
    "crust_size = ['thick', 'thin']\n",
    "crust_shade = ['grey', 'white', 'dark']\n",
    "filling_size = ['thick', 'thin']\n",
    "filling_shade = ['grey', 'white', 'dark']\n",
    "result = [1,0]"
   ]
  },
  {
   "cell_type": "code",
   "execution_count": 3,
   "id": "d9e0707e-5984-4961-a22a-83b99a016c3b",
   "metadata": {},
   "outputs": [],
   "source": [
    "num_rows = 20"
   ]
  },
  {
   "cell_type": "code",
   "execution_count": 4,
   "id": "2c35a2be-cfe8-4f30-86a6-eaf89a16c2d1",
   "metadata": {},
   "outputs": [],
   "source": [
    "data = {\n",
    "    'shape': np.random.choice(shape, num_rows),\n",
    "    'crust_size': np.random.choice(crust_size, num_rows),\n",
    "    'crust_shade': np.random.choice(crust_shade, num_rows),\n",
    "    'filling_size': np.random.choice(filling_size, num_rows),\n",
    "    'filling_shade': np.random.choice(filling_shade, num_rows),\n",
    "    'result': np.random.choice(result, num_rows)\n",
    "}"
   ]
  },
  {
   "cell_type": "code",
   "execution_count": 5,
   "id": "cbdbe3eb-d4b1-432d-b923-ef437cab34c8",
   "metadata": {},
   "outputs": [],
   "source": [
    "df = pd.DataFrame(data)\n",
    "\n",
    "df_encoded = pd.get_dummies(df)"
   ]
  },
  {
   "cell_type": "code",
   "execution_count": 6,
   "id": "02770c29-608f-4067-a11b-823bd4a9bdba",
   "metadata": {},
   "outputs": [],
   "source": [
    "X = df_encoded.drop('result', axis=1)\n",
    "y = df_encoded['result']"
   ]
  },
  {
   "cell_type": "code",
   "execution_count": 7,
   "id": "49fb9bce-2288-4643-9a12-253ea4ba11a5",
   "metadata": {},
   "outputs": [],
   "source": [
    "X_train, X_test, y_train, y_test = train_test_split(X, y, test_size=0.2, random_state=42)\n",
    "model = DecisionTreeClassifier()\n",
    "model.fit(X_train, y_train)\n",
    "y_pred = model.predict(X_test)"
   ]
  },
  {
   "cell_type": "code",
   "execution_count": 8,
   "id": "67c01049-ca38-442a-bd16-1b4b2425eb83",
   "metadata": {},
   "outputs": [
    {
     "name": "stdout",
     "output_type": "stream",
     "text": [
      "Accuracy: 0.75\n"
     ]
    }
   ],
   "source": [
    "accuracy = accuracy_score(y_test, y_pred)\n",
    "print(\"Accuracy:\", accuracy)"
   ]
  },
  {
   "cell_type": "code",
   "execution_count": null,
   "id": "379344a3-730d-4aeb-bd3d-0ac8aa26638d",
   "metadata": {},
   "outputs": [],
   "source": []
  }
 ],
 "metadata": {
  "kernelspec": {
   "display_name": "Python 3 (ipykernel)",
   "language": "python",
   "name": "python3"
  },
  "language_info": {
   "codemirror_mode": {
    "name": "ipython",
    "version": 3
   },
   "file_extension": ".py",
   "mimetype": "text/x-python",
   "name": "python",
   "nbconvert_exporter": "python",
   "pygments_lexer": "ipython3",
   "version": "3.9.12"
  }
 },
 "nbformat": 4,
 "nbformat_minor": 5
}
